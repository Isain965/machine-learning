{
 "cells": [
  {
   "cell_type": "code",
   "execution_count": 1,
   "metadata": {},
   "outputs": [],
   "source": [
    "# Python ≥3.5 is required\n",
    "import sys\n",
    "assert sys.version_info >= (3, 5)\n",
    "\n",
    "# Scikit-Learn ≥0.20 is required\n",
    "import sklearn\n",
    "assert sklearn.__version__ >= \"0.20\"\n",
    "\n",
    "# Common imports\n",
    "import numpy as np\n",
    "import os\n",
    "\n",
    "# to make this notebook's output stable across runs\n",
    "np.random.seed(42)\n",
    "\n",
    "# To plot pretty figures\n",
    "\n",
    "import matplotlib as mpl\n",
    "import matplotlib.pyplot as plt\n",
    "mpl.rc('axes', labelsize=14)\n",
    "mpl.rc('xtick', labelsize=12)\n",
    "mpl.rc('ytick', labelsize=12)\n",
    "\n",
    "# Where to save the figures\n",
    "PROJECT_ROOT_DIR = \".\"\n",
    "CHAPTER_ID = \"ann\"\n",
    "IMAGES_PATH = os.path.join(PROJECT_ROOT_DIR, \"images\", CHAPTER_ID)\n",
    "os.makedirs(IMAGES_PATH, exist_ok=True)\n",
    "\n",
    "def save_fig(fig_id, tight_layout=True, fig_extension=\"png\", resolution=300):\n",
    "    path = os.path.join(IMAGES_PATH, fig_id + \".\" + fig_extension)\n",
    "    print(\"Saving figure\", fig_id)\n",
    "    if tight_layout:\n",
    "        plt.tight_layout()\n",
    "    plt.savefig(path, format=fig_extension, dpi=resolution)\n",
    "\n",
    "# Ignore useless warnings (see SciPy issue #5998)\n",
    "import warnings\n",
    "warnings.filterwarnings(action=\"ignore\", message=\"^internal gelsd\")"
   ]
  },
  {
   "cell_type": "code",
   "execution_count": 2,
   "metadata": {},
   "outputs": [],
   "source": [
    "# para leer el archivo\n",
    "with open('../datasets/hepatitis.dat', 'r') as lector:\n",
    "    lista = lector.readlines()"
   ]
  },
  {
   "cell_type": "code",
   "execution_count": 3,
   "metadata": {},
   "outputs": [],
   "source": [
    "def mostFrequent(arr):\n",
    "    n = len(arr)\n",
    "    # Insert all elements in Hash.\n",
    "    Hash = dict()\n",
    "    for i in range(n):\n",
    "        if arr[i] in Hash.keys():\n",
    "            Hash[arr[i]] += 1\n",
    "        else:\n",
    "            Hash[arr[i]] = 1\n",
    "    # find the max frequency\n",
    "    max_count = 0\n",
    "    res = -1\n",
    "    for i in Hash:\n",
    "        if (max_count < Hash[i]):\n",
    "            res = i\n",
    "            max_count = Hash[i]\n",
    "    return res\n",
    "\n",
    "def obtienePromedio(arr):\n",
    "    if(len(arr) == 0):\n",
    "        return 0\n",
    "    suma = 0\n",
    "    for element in arr:\n",
    "        suma += element\n",
    "    return suma // len(arr)"
   ]
  },
  {
   "cell_type": "code",
   "execution_count": 6,
   "metadata": {},
   "outputs": [
    {
     "name": "stdout",
     "output_type": "stream",
     "text": [
      "[30, 2, 1, 2, 2, 2, 2, 1, 2, 2, 2, 2, 2, 0, 85, 18, 0, 61, 1]\n",
      "[50, 1, 1, 2, 1, 2, 2, 1, 2, 2, 2, 2, 2, 0, 135, 42, 0, 61, 1]\n",
      "[78, 1, 2, 2, 1, 2, 2, 2, 2, 2, 2, 2, 2, 0, 96, 32, 0, 61, 1]\n",
      "[31, 1, 2, 1, 2, 2, 2, 2, 2, 2, 2, 2, 2, 0, 46, 52, 0, 80, 1]\n",
      "[34, 1, 2, 2, 2, 2, 2, 2, 2, 2, 2, 2, 2, 0, 105, 200, 0, 61, 1]\n",
      "[34, 1, 2, 2, 2, 2, 2, 2, 2, 2, 2, 2, 2, 0, 95, 28, 0, 75, 1]\n",
      "[51, 1, 1, 2, 1, 2, 1, 2, 2, 1, 1, 2, 2, 0, 105, 85, 0, 61, 1]\n",
      "[23, 1, 2, 2, 2, 2, 2, 2, 2, 2, 2, 2, 2, 0, 105, 85, 0, 61, 1]\n",
      "[39, 1, 2, 2, 1, 2, 2, 2, 1, 2, 2, 2, 2, 0, 105, 48, 0, 61, 1]\n",
      "[30, 1, 2, 2, 2, 2, 2, 2, 2, 2, 2, 2, 2, 0, 105, 120, 0, 61, 1]\n",
      "[39, 1, 1, 1, 2, 2, 2, 1, 1, 2, 2, 2, 2, 0, 78, 30, 0, 85, 1]\n",
      "[32, 1, 2, 1, 1, 2, 2, 2, 1, 2, 1, 2, 2, 0, 59, 249, 0, 54, 1]\n",
      "[41, 1, 2, 1, 1, 2, 2, 2, 1, 2, 2, 2, 2, 0, 81, 60, 0, 52, 1]\n",
      "[30, 1, 2, 2, 1, 2, 2, 2, 1, 2, 2, 2, 2, 0, 57, 144, 0, 78, 1]\n",
      "[47, 1, 1, 1, 2, 2, 2, 2, 2, 2, 2, 2, 2, 0, 105, 60, 0, 61, 1]\n",
      "[38, 1, 1, 2, 1, 1, 1, 2, 2, 2, 2, 1, 2, 0, 72, 89, 0, 46, 1]\n",
      "[66, 1, 2, 2, 1, 2, 2, 2, 2, 2, 2, 2, 2, 0, 102, 53, 0, 61, 1]\n",
      "[40, 1, 1, 2, 1, 2, 2, 2, 1, 2, 2, 2, 2, 0, 62, 166, 0, 63, 1]\n",
      "[38, 1, 2, 2, 2, 2, 2, 2, 2, 2, 2, 2, 2, 0, 53, 42, 0, 85, 2]\n",
      "[38, 1, 1, 1, 2, 2, 2, 1, 1, 2, 2, 2, 2, 0, 70, 28, 0, 62, 1]\n",
      "[22, 2, 2, 1, 1, 2, 2, 2, 2, 2, 2, 2, 2, 0, 48, 20, 0, 64, 1]\n",
      "[27, 1, 2, 2, 1, 1, 1, 1, 1, 1, 1, 2, 2, 0, 133, 98, 0, 39, 1]\n",
      "[31, 1, 2, 2, 2, 2, 2, 2, 2, 2, 2, 2, 2, 0, 85, 20, 0, 100, 1]\n",
      "[42, 1, 2, 2, 2, 2, 2, 2, 2, 2, 2, 2, 2, 0, 60, 63, 0, 47, 1]\n",
      "[25, 2, 1, 1, 2, 2, 2, 2, 2, 2, 2, 2, 2, 0, 45, 18, 0, 70, 1]\n",
      "[27, 1, 1, 2, 1, 1, 2, 2, 2, 2, 2, 2, 2, 0, 95, 46, 0, 100, 1]\n",
      "[49, 1, 1, 1, 1, 1, 1, 2, 1, 2, 1, 2, 2, 0, 85, 48, 0, 61, 1]\n",
      "[58, 2, 2, 2, 1, 2, 2, 2, 1, 2, 1, 2, 2, 0, 175, 55, 0, 36, 1]\n",
      "[61, 1, 1, 2, 1, 2, 2, 1, 1, 2, 2, 2, 2, 0, 78, 25, 0, 100, 1]\n",
      "[51, 1, 1, 1, 1, 1, 2, 2, 2, 2, 2, 2, 2, 0, 78, 58, 0, 52, 1]\n",
      "[39, 1, 1, 1, 1, 1, 2, 2, 1, 2, 2, 2, 2, 0, 280, 98, 0, 40, 1]\n",
      "[62, 1, 1, 2, 1, 1, 2, 2, 2, 2, 2, 2, 2, 0, 105, 60, 0, 61, 1]\n",
      "[41, 2, 2, 1, 1, 1, 1, 2, 2, 2, 2, 2, 2, 0, 81, 53, 0, 74, 1]\n",
      "[26, 2, 1, 2, 2, 2, 2, 2, 1, 2, 2, 2, 2, 0, 135, 29, 0, 60, 1]\n",
      "[35, 1, 2, 2, 1, 2, 2, 2, 2, 2, 2, 2, 2, 0, 58, 92, 0, 73, 1]\n",
      "[37, 1, 2, 2, 1, 2, 2, 2, 2, 2, 1, 2, 2, 0, 67, 28, 0, 61, 1]\n",
      "[23, 1, 2, 2, 1, 1, 1, 2, 2, 1, 2, 2, 2, 0, 194, 150, 0, 90, 1]\n",
      "[20, 2, 1, 2, 1, 1, 1, 1, 1, 1, 1, 2, 2, 0, 150, 68, 0, 61, 1]\n",
      "[42, 1, 1, 2, 2, 2, 2, 2, 2, 2, 2, 2, 2, 0, 85, 14, 0, 100, 1]\n",
      "[65, 1, 2, 2, 1, 1, 2, 2, 1, 1, 1, 1, 2, 0, 180, 53, 0, 74, 2]\n",
      "[52, 1, 1, 1, 2, 2, 2, 2, 2, 2, 2, 2, 2, 0, 75, 55, 0, 21, 1]\n",
      "[23, 1, 2, 2, 2, 2, 2, 2, 2, 2, 2, 2, 2, 0, 56, 16, 0, 61, 1]\n",
      "[33, 1, 2, 2, 2, 2, 2, 2, 2, 2, 2, 2, 2, 0, 46, 90, 0, 60, 1]\n",
      "[56, 1, 1, 2, 1, 2, 2, 2, 2, 2, 2, 2, 2, 0, 71, 18, 0, 100, 1]\n",
      "[34, 1, 2, 2, 2, 2, 2, 2, 2, 2, 2, 2, 2, 0, 105, 86, 0, 61, 1]\n",
      "[28, 1, 2, 2, 1, 1, 2, 2, 2, 2, 2, 2, 2, 0, 74, 110, 0, 61, 1]\n",
      "[37, 1, 1, 2, 2, 2, 2, 2, 1, 2, 1, 2, 2, 0, 80, 80, 0, 61, 1]\n",
      "[28, 2, 2, 2, 1, 1, 2, 2, 1, 2, 2, 2, 2, 0, 191, 420, 0, 46, 1]\n",
      "[36, 1, 1, 2, 2, 2, 2, 2, 2, 1, 2, 2, 2, 0, 85, 44, 0, 85, 1]\n",
      "[38, 1, 2, 1, 1, 1, 1, 2, 2, 2, 1, 2, 2, 0, 125, 65, 0, 77, 1]\n",
      "[39, 1, 1, 2, 2, 2, 2, 2, 2, 2, 2, 2, 2, 0, 85, 60, 0, 61, 1]\n",
      "[39, 1, 2, 2, 2, 2, 2, 2, 2, 2, 2, 2, 2, 0, 85, 20, 0, 61, 1]\n",
      "[44, 1, 2, 2, 2, 2, 2, 2, 2, 2, 2, 2, 2, 0, 110, 145, 0, 70, 1]\n",
      "[40, 1, 2, 1, 1, 2, 2, 2, 1, 1, 2, 2, 2, 0, 85, 31, 0, 100, 1]\n",
      "[30, 1, 2, 2, 1, 2, 2, 2, 2, 2, 2, 2, 2, 0, 50, 78, 0, 74, 1]\n",
      "[37, 1, 1, 2, 1, 1, 1, 2, 2, 2, 2, 2, 2, 0, 92, 59, 0, 61, 1]\n",
      "[34, 1, 1, 2, 1, 2, 2, 2, 2, 2, 2, 2, 2, 0, 105, 85, 0, 61, 1]\n",
      "[30, 1, 2, 1, 2, 2, 2, 2, 2, 2, 2, 2, 2, 0, 52, 38, 0, 52, 1]\n",
      "[64, 1, 2, 1, 1, 1, 2, 1, 1, 2, 2, 2, 2, 0, 80, 38, 0, 74, 1]\n",
      "[45, 2, 1, 2, 1, 1, 2, 2, 2, 1, 2, 2, 2, 0, 85, 75, 0, 61, 1]\n",
      "[37, 1, 2, 2, 2, 2, 2, 2, 2, 2, 2, 2, 2, 0, 26, 58, 0, 100, 1]\n",
      "[32, 1, 2, 2, 2, 2, 2, 2, 2, 2, 2, 2, 2, 0, 102, 64, 0, 90, 1]\n",
      "[32, 1, 2, 2, 1, 1, 1, 2, 2, 2, 1, 2, 1, 0, 215, 54, 0, 29, 1]\n",
      "[36, 1, 1, 2, 2, 2, 2, 1, 1, 1, 2, 2, 2, 0, 164, 44, 0, 41, 1]\n",
      "[49, 1, 2, 2, 1, 1, 2, 2, 2, 2, 2, 2, 2, 0, 103, 43, 0, 66, 1]\n",
      "[27, 1, 2, 2, 2, 2, 2, 2, 2, 2, 2, 2, 2, 0, 105, 38, 0, 61, 1]\n",
      "[56, 1, 1, 2, 2, 2, 2, 2, 2, 2, 2, 2, 2, 0, 62, 33, 0, 61, 1]\n",
      "[57, 1, 2, 2, 1, 1, 1, 2, 2, 2, 1, 1, 2, 0, 105, 48, 0, 73, 1]\n",
      "[39, 1, 2, 2, 1, 2, 2, 2, 2, 2, 2, 2, 2, 0, 34, 15, 0, 54, 1]\n",
      "[44, 1, 1, 2, 1, 1, 2, 2, 2, 2, 2, 2, 2, 0, 68, 68, 0, 61, 1]\n",
      "[24, 1, 2, 2, 2, 2, 2, 2, 2, 2, 2, 2, 2, 0, 82, 39, 0, 61, 1]\n",
      "[34, 1, 1, 2, 1, 1, 2, 1, 1, 2, 1, 2, 2, 0, 127, 182, 0, 61, 1]\n",
      "[51, 1, 2, 2, 1, 1, 1, 2, 2, 2, 2, 2, 2, 0, 76, 271, 0, 61, 1]\n",
      "[36, 1, 1, 2, 1, 1, 1, 2, 1, 2, 2, 2, 2, 0, 105, 45, 0, 57, 1]\n",
      "[50, 1, 2, 2, 2, 2, 2, 2, 2, 2, 2, 2, 2, 0, 100, 100, 0, 61, 1]\n",
      "[32, 1, 1, 1, 1, 1, 2, 2, 2, 2, 2, 2, 2, 0, 55, 45, 0, 56, 1]\n",
      "[58, 1, 2, 2, 1, 2, 2, 1, 1, 1, 1, 2, 2, 0, 167, 242, 0, 61, 1]\n",
      "[34, 2, 1, 1, 2, 2, 2, 2, 1, 2, 2, 2, 2, 0, 30, 24, 0, 76, 1]\n",
      "[34, 1, 1, 2, 1, 2, 2, 1, 1, 2, 1, 2, 2, 0, 72, 46, 0, 57, 1]\n",
      "[28, 1, 2, 2, 2, 2, 2, 2, 2, 2, 2, 2, 2, 0, 85, 31, 0, 61, 1]\n",
      "[23, 1, 2, 2, 1, 1, 1, 2, 2, 2, 2, 2, 2, 0, 105, 14, 0, 61, 1]\n",
      "[36, 1, 2, 2, 2, 2, 2, 2, 2, 2, 2, 2, 2, 0, 62, 224, 0, 100, 1]\n",
      "[30, 1, 1, 2, 2, 2, 2, 2, 2, 2, 2, 2, 2, 0, 100, 31, 0, 100, 1]\n",
      "[67, 2, 1, 2, 1, 1, 2, 2, 2, 2, 2, 2, 2, 0, 179, 69, 0, 61, 1]\n",
      "[62, 2, 2, 2, 1, 1, 2, 2, 1, 2, 1, 2, 2, 0, 141, 156, 0, 58, 1]\n",
      "[28, 1, 1, 2, 1, 1, 1, 2, 1, 2, 2, 2, 2, 0, 44, 123, 0, 46, 1]\n",
      "[44, 1, 1, 2, 1, 1, 2, 2, 2, 1, 2, 2, 1, 0, 135, 55, 0, 41, 2]\n",
      "[30, 1, 2, 2, 1, 1, 1, 2, 1, 2, 1, 1, 1, 0, 165, 64, 0, 61, 2]\n",
      "[38, 1, 1, 2, 1, 1, 1, 2, 1, 2, 1, 1, 1, 0, 118, 16, 0, 61, 2]\n",
      "[38, 1, 1, 2, 1, 1, 1, 1, 1, 2, 2, 2, 2, 0, 76, 18, 0, 84, 2]\n",
      "[50, 2, 1, 2, 1, 2, 2, 1, 1, 1, 1, 2, 2, 0, 230, 117, 0, 41, 2]\n",
      "[42, 1, 1, 2, 1, 1, 1, 2, 2, 1, 1, 2, 1, 0, 105, 55, 0, 61, 2]\n",
      "[33, 1, 2, 2, 2, 2, 2, 2, 2, 2, 2, 2, 2, 0, 105, 60, 0, 61, 2]\n",
      "[52, 1, 1, 2, 2, 2, 2, 2, 2, 2, 2, 2, 2, 0, 105, 69, 0, 61, 2]\n",
      "[59, 1, 1, 2, 1, 1, 2, 2, 1, 1, 1, 2, 2, 0, 107, 157, 0, 38, 2]\n",
      "[40, 1, 1, 1, 1, 1, 1, 1, 1, 2, 2, 2, 2, 0, 40, 69, 0, 67, 2]\n",
      "[30, 1, 1, 2, 1, 1, 2, 2, 1, 2, 1, 2, 2, 0, 147, 128, 0, 100, 2]\n",
      "[44, 1, 1, 2, 1, 1, 2, 1, 1, 2, 1, 2, 2, 0, 114, 65, 0, 61, 2]\n",
      "[47, 1, 2, 2, 2, 2, 2, 2, 2, 2, 1, 2, 1, 0, 84, 23, 0, 66, 2]\n",
      "[60, 1, 1, 2, 1, 2, 2, 1, 1, 1, 1, 2, 2, 0, 105, 40, 0, 61, 2]\n",
      "[48, 1, 1, 2, 1, 1, 2, 2, 1, 2, 1, 1, 1, 0, 123, 157, 0, 31, 2]\n",
      "[22, 1, 2, 2, 2, 2, 2, 2, 2, 2, 2, 2, 2, 0, 105, 24, 0, 61, 2]\n",
      "[27, 1, 1, 2, 1, 2, 2, 2, 1, 2, 2, 2, 2, 0, 168, 227, 0, 66, 2]\n",
      "[51, 1, 1, 2, 1, 1, 1, 2, 1, 1, 1, 2, 1, 0, 215, 269, 0, 51, 2]\n",
      "[47, 1, 2, 2, 1, 1, 2, 2, 1, 2, 2, 1, 1, 0, 86, 20, 0, 46, 2]\n",
      "[25, 1, 2, 2, 2, 2, 2, 2, 2, 2, 2, 2, 2, 0, 105, 34, 0, 61, 2]\n",
      "[35, 1, 1, 2, 1, 2, 2, 2, 2, 1, 1, 1, 2, 0, 138, 58, 0, 61, 2]\n",
      "[45, 1, 1, 2, 1, 1, 1, 2, 2, 2, 2, 2, 2, 0, 105, 648, 0, 61, 2]\n",
      "[54, 1, 1, 1, 2, 2, 2, 1, 1, 2, 2, 2, 2, 0, 155, 225, 0, 67, 2]\n",
      "[33, 1, 1, 2, 1, 1, 2, 2, 2, 2, 2, 1, 2, 0, 63, 80, 0, 31, 2]\n",
      "[7, 1, 2, 2, 2, 2, 2, 2, 1, 1, 2, 2, 2, 0, 256, 25, 0, 61, 2]\n",
      "[42, 1, 1, 1, 1, 1, 2, 2, 2, 2, 1, 2, 2, 0, 62, 68, 0, 29, 2]\n",
      "[52, 1, 1, 2, 1, 2, 2, 2, 2, 2, 2, 2, 2, 0, 85, 30, 0, 61, 2]\n",
      "[45, 1, 1, 2, 1, 2, 2, 2, 1, 1, 2, 2, 2, 0, 81, 65, 0, 61, 1]\n",
      "[36, 1, 1, 2, 2, 2, 2, 2, 2, 2, 2, 2, 2, 0, 141, 75, 0, 61, 2]\n",
      "[69, 2, 2, 2, 1, 2, 2, 2, 2, 2, 2, 2, 2, 0, 119, 136, 0, 61, 2]\n",
      "[24, 1, 1, 2, 1, 2, 2, 2, 2, 2, 2, 2, 2, 0, 105, 34, 0, 61, 2]\n",
      "[50, 1, 2, 2, 2, 2, 2, 2, 2, 2, 2, 2, 2, 0, 139, 81, 0, 62, 2]\n",
      "[61, 1, 1, 2, 1, 1, 2, 2, 2, 2, 1, 2, 2, 0, 105, 85, 0, 61, 2]\n",
      "[54, 1, 2, 2, 1, 2, 2, 1, 1, 2, 2, 2, 2, 0, 85, 28, 0, 61, 2]\n",
      "[56, 1, 1, 2, 1, 1, 1, 1, 1, 2, 1, 2, 2, 0, 90, 153, 0, 61, 2]\n",
      "[20, 1, 1, 2, 1, 1, 1, 2, 2, 2, 1, 1, 2, 0, 160, 118, 0, 23, 2]\n",
      "[42, 1, 2, 2, 2, 2, 2, 2, 2, 1, 2, 2, 2, 0, 85, 40, 0, 61, 2]\n",
      "[37, 1, 1, 2, 1, 2, 2, 2, 2, 2, 1, 2, 2, 0, 105, 231, 0, 61, 2]\n",
      "[50, 1, 2, 2, 2, 2, 2, 2, 1, 1, 1, 2, 2, 0, 85, 75, 0, 72, 2]\n",
      "[34, 2, 2, 2, 1, 1, 1, 1, 1, 2, 1, 2, 2, 0, 70, 24, 0, 100, 2]\n",
      "[28, 1, 2, 2, 1, 1, 1, 2, 2, 2, 1, 1, 2, 0, 105, 20, 0, 61, 2]\n",
      "[50, 1, 2, 2, 1, 2, 2, 2, 1, 1, 2, 1, 1, 0, 155, 75, 0, 32, 2]\n",
      "[54, 1, 1, 2, 1, 1, 2, 2, 2, 2, 2, 1, 2, 0, 85, 92, 0, 66, 2]\n",
      "[57, 1, 1, 2, 1, 1, 2, 2, 2, 2, 1, 1, 2, 0, 82, 55, 0, 30, 2]\n",
      "[54, 1, 2, 2, 2, 2, 2, 2, 2, 2, 2, 2, 2, 0, 85, 30, 0, 0, 2]\n",
      "[31, 1, 1, 2, 1, 1, 1, 2, 2, 1, 2, 2, 2, 0, 105, 101, 0, 61, 2]\n",
      "[48, 1, 2, 2, 1, 1, 1, 2, 1, 2, 1, 2, 2, 0, 158, 278, 0, 61, 2]\n",
      "[72, 1, 2, 1, 1, 2, 2, 2, 1, 2, 2, 2, 2, 0, 115, 52, 0, 50, 2]\n",
      "[38, 1, 1, 2, 2, 2, 2, 2, 1, 2, 2, 2, 2, 0, 243, 49, 0, 90, 2]\n",
      "[25, 1, 2, 2, 1, 2, 2, 1, 1, 1, 1, 1, 1, 0, 181, 181, 0, 57, 2]\n",
      "[51, 1, 2, 2, 2, 2, 2, 1, 1, 2, 1, 2, 2, 0, 105, 33, 0, 61, 2]\n",
      "[38, 1, 2, 2, 2, 2, 2, 2, 1, 2, 1, 2, 1, 0, 130, 140, 0, 56, 2]\n",
      "[47, 1, 2, 2, 1, 1, 2, 2, 1, 2, 1, 1, 1, 0, 166, 30, 0, 31, 2]\n",
      "[45, 1, 2, 1, 2, 2, 2, 2, 2, 2, 2, 2, 2, 0, 85, 44, 0, 85, 2]\n",
      "[36, 1, 1, 2, 1, 1, 1, 1, 1, 2, 1, 2, 1, 0, 295, 60, 0, 61, 2]\n",
      "[54, 1, 1, 2, 1, 1, 2, 2, 2, 1, 2, 1, 2, 0, 120, 28, 0, 43, 2]\n",
      "[51, 1, 2, 2, 1, 2, 2, 2, 1, 1, 1, 2, 1, 0, 105, 20, 0, 63, 2]\n",
      "[49, 1, 1, 2, 1, 1, 2, 2, 2, 1, 1, 2, 2, 0, 85, 70, 0, 35, 2]\n",
      "[45, 1, 2, 2, 1, 1, 1, 2, 2, 2, 1, 1, 2, 0, 105, 114, 0, 61, 2]\n",
      "[31, 1, 1, 2, 1, 2, 2, 2, 2, 2, 2, 2, 2, 0, 75, 173, 0, 54, 2]\n",
      "[41, 1, 2, 2, 1, 2, 2, 2, 1, 1, 1, 2, 1, 0, 65, 120, 0, 61, 2]\n",
      "[70, 1, 1, 2, 1, 1, 1, 2, 2, 2, 2, 2, 2, 0, 109, 528, 0, 35, 2]\n",
      "[20, 1, 1, 2, 2, 2, 2, 2, 2, 2, 2, 2, 2, 0, 89, 152, 0, 61, 2]\n",
      "[36, 1, 2, 2, 2, 2, 2, 2, 2, 2, 2, 2, 2, 0, 120, 30, 0, 61, 2]\n",
      "[46, 1, 2, 2, 1, 1, 1, 2, 2, 2, 1, 1, 1, 0, 105, 242, 0, 50, 2]\n",
      "[44, 1, 2, 2, 1, 2, 2, 2, 1, 2, 2, 2, 2, 0, 126, 142, 0, 61, 2]\n",
      "[61, 1, 1, 2, 1, 1, 2, 1, 1, 2, 1, 2, 2, 0, 75, 20, 0, 61, 2]\n",
      "[53, 2, 1, 2, 1, 2, 2, 2, 2, 1, 1, 2, 1, 0, 81, 19, 0, 48, 2]\n",
      "[43, 1, 2, 2, 1, 2, 2, 2, 2, 1, 1, 1, 2, 0, 100, 19, 0, 42, 2]\n"
     ]
    }
   ],
   "source": [
    "# convertir los numeros\n",
    "import numpy as np\n",
    "\n",
    "\n",
    "Xt = [entrada.rstrip('\\n').split(',')[:-1]for entrada in lista if not entrada.startswith('@')]\n",
    "\n",
    "X = []\n",
    "\n",
    "for elemento in Xt:\n",
    "    tempArr = []\n",
    "    for ele in elemento:\n",
    "        try:\n",
    "            tempArr.append(int(ele))\n",
    "        except:\n",
    "            tempArr.append(-100)\n",
    "    X.append(tempArr)\n",
    "\n",
    "\n",
    "index = 0\n",
    "for i in range (len(X[0])):\n",
    "    arr = []\n",
    "    for fold in X:\n",
    "        if (fold[i] != -100):\n",
    "            arr.append(fold[i])\n",
    "\n",
    "    ## Mandat a calcular la moda para los datos categoricos\n",
    "    if(i in range(1, 13) or i == 18):\n",
    "        moda = mostFrequent(arr)\n",
    "        ## Substituir los -100 por la moda\n",
    "        for fold in X:\n",
    "            if (fold[i] == -100):\n",
    "                fold[i] = moda\n",
    "    elif(i in range(13,18)):\n",
    "        promedio = obtienePromedio(arr)\n",
    "        ## Substituir los -100 por el promedio\n",
    "        for fold in X:\n",
    "            if (fold[i] == -100):\n",
    "                fold[i] = promedio\n",
    "                \n",
    "for folds in X:\n",
    "    print(folds)\n",
    "    \n",
    "    \n",
    "        \n",
    "    "
   ]
  },
  {
   "cell_type": "code",
   "execution_count": 5,
   "metadata": {},
   "outputs": [
    {
     "name": "stdout",
     "output_type": "stream",
     "text": [
      "[2. 2. 2. 2. 2. 2. 1. 2. 2. 2. 2. 2. 2. 2. 2. 2. 2. 2. 2. 2. 2. 2. 2. 2.\n",
      " 2. 2. 2. 2. 2. 2. 1. 1. 2. 2. 2. 1. 2. 2. 2. 2. 2. 2. 2. 2. 2. 2. 2. 2.\n",
      " 2. 2. 2. 2. 2. 2. 2. 2. 2. 2. 2. 2. 2. 2. 2. 2. 2. 2. 2. 1. 2. 2. 2. 1.\n",
      " 2. 2. 2. 2. 1. 2. 2. 2. 2. 2. 2. 2. 2. 2. 1. 1. 1. 2. 2. 1. 2. 2. 1. 2.\n",
      " 2. 2. 1. 2. 1. 2. 2. 2. 1. 2. 1. 2. 2. 1. 2. 1. 2. 2. 2. 2. 2. 2. 1. 2.\n",
      " 1. 2. 2. 2. 2. 2. 2. 1. 2. 1. 2. 1. 2. 2. 1. 2. 2. 2. 1. 2. 2. 1. 2. 1.\n",
      " 1. 2. 1. 1. 2. 2. 1. 2. 2. 2. 1.]\n"
     ]
    }
   ],
   "source": [
    "# para sacar y\n",
    "yt = [entrada.rstrip('\\n').split(',')[-1]for entrada in lista if not entrada.startswith('@')]\n",
    "\n",
    "y = [float(i) for i in yt]\n",
    "y = np.asarray(y)\n",
    "print(y)"
   ]
  },
  {
   "cell_type": "code",
   "execution_count": 6,
   "metadata": {},
   "outputs": [],
   "source": [
    "# vamos a generar los conjuntos de prueba\n",
    "from sklearn.model_selection import train_test_split\n",
    "\n",
    "X_train,X_test,y_train,y_test = train_test_split(X, y, random_state=42)"
   ]
  },
  {
   "cell_type": "markdown",
   "metadata": {},
   "source": [
    "# Support Vector machine"
   ]
  },
  {
   "cell_type": "markdown",
   "metadata": {},
   "source": [
    "### Normal Classifier"
   ]
  },
  {
   "cell_type": "code",
   "execution_count": 7,
   "metadata": {},
   "outputs": [
    {
     "name": "stderr",
     "output_type": "stream",
     "text": [
      "/usr/local/lib/python3.7/site-packages/sklearn/svm/base.py:193: FutureWarning: The default value of gamma will change from 'auto' to 'scale' in version 0.22 to account better for unscaled features. Set gamma explicitly to 'auto' or 'scale' to avoid this warning.\n",
      "  \"avoid this warning.\", FutureWarning)\n"
     ]
    },
    {
     "data": {
      "text/plain": [
       "Pipeline(memory=None,\n",
       "         steps=[('scaler',\n",
       "                 StandardScaler(copy=True, with_mean=True, with_std=True)),\n",
       "                ('SVM',\n",
       "                 SVC(C=5, cache_size=200, class_weight=None, coef0=0.0,\n",
       "                     decision_function_shape='ovr', degree=3,\n",
       "                     gamma='auto_deprecated', kernel='poly', max_iter=-1,\n",
       "                     probability=False, random_state=None, shrinking=True,\n",
       "                     tol=0.001, verbose=False))],\n",
       "         verbose=False)"
      ]
     },
     "execution_count": 7,
     "metadata": {},
     "output_type": "execute_result"
    }
   ],
   "source": [
    "from sklearn.svm import SVC\n",
    "from sklearn.pipeline import Pipeline\n",
    "from sklearn.preprocessing import StandardScaler\n",
    "\n",
    "\n",
    "# Crear maquina de soporte vectorial\n",
    "poly_kernel_svm_clf=Pipeline([\n",
    "    (\"scaler\", StandardScaler()), \n",
    "    (\"SVM\", SVC(kernel=\"poly\", degree=3, C=5))])\n",
    "poly_kernel_svm_clf.fit(X_train,y_train)"
   ]
  },
  {
   "cell_type": "code",
   "execution_count": 8,
   "metadata": {},
   "outputs": [],
   "source": [
    "# para predecir los test con poly_kernel_svm_clf\n",
    "y_pred1=poly_kernel_svm_clf.predict(X_test)"
   ]
  },
  {
   "cell_type": "markdown",
   "metadata": {},
   "source": [
    "### Best configuration for the classifier"
   ]
  },
  {
   "cell_type": "code",
   "execution_count": 9,
   "metadata": {},
   "outputs": [
    {
     "name": "stdout",
     "output_type": "stream",
     "text": [
      "Pipeline(memory=None,\n",
      "         steps=[('scaler',\n",
      "                 StandardScaler(copy=True, with_mean=True, with_std=True)),\n",
      "                ('SVM',\n",
      "                 SVC(C=10, cache_size=200, class_weight=None, coef0=0.0,\n",
      "                     decision_function_shape='ovr', degree=3, gamma=0.1,\n",
      "                     kernel='poly', max_iter=-1, probability=False,\n",
      "                     random_state=None, shrinking=True, tol=0.001,\n",
      "                     verbose=False))],\n",
      "         verbose=False)\n"
     ]
    },
    {
     "name": "stderr",
     "output_type": "stream",
     "text": [
      "/usr/local/lib/python3.7/site-packages/sklearn/model_selection/_search.py:814: DeprecationWarning: The default of the `iid` parameter will change from True to False in version 0.22 and will be removed in 0.24. This will change numeric results when test-set sizes are unequal.\n",
      "  DeprecationWarning)\n"
     ]
    }
   ],
   "source": [
    "from sklearn.model_selection import GridSearchCV\n",
    "param_grid = [\n",
    "  {'C': [1,10], 'kernel': ['linear', 'poly']},\n",
    "  {'C': [1, 10, 20], 'gamma': [0.001, 0.0001], 'kernel': ['rbf', 'poly']},\n",
    " ]\n",
    "parameteres = {'SVM__C':[0.001,0.1,10,100,10e5], 'SVM__gamma':[0.1,0.01]}\n",
    "bestClfSVM = GridSearchCV(poly_kernel_svm_clf, param_grid = parameteres, cv = 5)\n",
    "\n",
    "bestClfSVM.fit(X_train,y_train)\n",
    "print(bestClfSVM.best_estimator_)"
   ]
  },
  {
   "cell_type": "code",
   "execution_count": 10,
   "metadata": {},
   "outputs": [],
   "source": [
    "# para predecir los test con bestClfSVM\n",
    "y_pred2=bestClfSVM.predict(X_test)"
   ]
  },
  {
   "cell_type": "code",
   "execution_count": 11,
   "metadata": {},
   "outputs": [
    {
     "name": "stdout",
     "output_type": "stream",
     "text": [
      "The Accuracy for SVM with degree 3 is:0.7435897435897436\n",
      "The Accuracy for SVM with GridSearch is:0.717948717948718\n"
     ]
    }
   ],
   "source": [
    "###### Vamos a generar los resultados\n",
    "from sklearn.metrics import accuracy_score\n",
    "\n",
    "#Maquina de soporte vectorial con grado 3\n",
    "result1SVM=accuracy_score(y_test,y_pred1)\n",
    "print(\"The Accuracy for SVM with degree 3 is:\" + str(result1SVM))\n",
    "\n",
    "\n",
    "result2SVM=accuracy_score(y_test,y_pred2)\n",
    "print(\"The Accuracy for SVM with GridSearch is:\" + str(result2SVM))"
   ]
  },
  {
   "cell_type": "markdown",
   "metadata": {},
   "source": [
    "# Perceptron Multilayer"
   ]
  },
  {
   "cell_type": "markdown",
   "metadata": {},
   "source": [
    "### Normal Classifier"
   ]
  },
  {
   "cell_type": "code",
   "execution_count": 12,
   "metadata": {},
   "outputs": [
    {
     "data": {
      "text/plain": [
       "MLPClassifier(activation='relu', alpha=0.0001, batch_size='auto', beta_1=0.9,\n",
       "              beta_2=0.999, early_stopping=False, epsilon=1e-08,\n",
       "              hidden_layer_sizes=(6,), learning_rate='constant',\n",
       "              learning_rate_init=0.001, max_iter=200, momentum=0.9,\n",
       "              n_iter_no_change=10, nesterovs_momentum=True, power_t=0.5,\n",
       "              random_state=1, shuffle=True, solver='lbfgs', tol=0.0001,\n",
       "              validation_fraction=0.1, verbose=False, warm_start=False)"
      ]
     },
     "execution_count": 12,
     "metadata": {},
     "output_type": "execute_result"
    }
   ],
   "source": [
    "from sklearn.neural_network import MLPClassifier\n",
    "\n",
    "clf_perceptron = MLPClassifier(solver='lbfgs', hidden_layer_sizes=(6,), random_state=1,activation='relu')\n",
    "clf_perceptron.fit(X_train, y_train)"
   ]
  },
  {
   "cell_type": "code",
   "execution_count": 13,
   "metadata": {},
   "outputs": [],
   "source": [
    "# para predecir los test con poly_kernel_svm_clf\n",
    "y_pred1_perceptron = clf_perceptron.predict(X_test)"
   ]
  },
  {
   "cell_type": "markdown",
   "metadata": {},
   "source": [
    "### Best configuration for the classifier"
   ]
  },
  {
   "cell_type": "code",
   "execution_count": 14,
   "metadata": {},
   "outputs": [
    {
     "name": "stderr",
     "output_type": "stream",
     "text": [
      "[Parallel(n_jobs=1)]: Using backend SequentialBackend with 1 concurrent workers.\n"
     ]
    },
    {
     "name": "stdout",
     "output_type": "stream",
     "text": [
      "Fitting 3 folds for each of 60 candidates, totalling 180 fits\n"
     ]
    },
    {
     "name": "stderr",
     "output_type": "stream",
     "text": [
      "/usr/local/lib/python3.7/site-packages/sklearn/neural_network/multilayer_perceptron.py:566: ConvergenceWarning: Stochastic Optimizer: Maximum iterations (200) reached and the optimization hasn't converged yet.\n",
      "  % self.max_iter, ConvergenceWarning)\n",
      "/usr/local/lib/python3.7/site-packages/sklearn/neural_network/multilayer_perceptron.py:566: ConvergenceWarning: Stochastic Optimizer: Maximum iterations (200) reached and the optimization hasn't converged yet.\n",
      "  % self.max_iter, ConvergenceWarning)\n",
      "/usr/local/lib/python3.7/site-packages/sklearn/neural_network/multilayer_perceptron.py:566: ConvergenceWarning: Stochastic Optimizer: Maximum iterations (200) reached and the optimization hasn't converged yet.\n",
      "  % self.max_iter, ConvergenceWarning)\n",
      "/usr/local/lib/python3.7/site-packages/sklearn/neural_network/multilayer_perceptron.py:566: ConvergenceWarning: Stochastic Optimizer: Maximum iterations (200) reached and the optimization hasn't converged yet.\n",
      "  % self.max_iter, ConvergenceWarning)\n",
      "/usr/local/lib/python3.7/site-packages/sklearn/neural_network/multilayer_perceptron.py:566: ConvergenceWarning: Stochastic Optimizer: Maximum iterations (200) reached and the optimization hasn't converged yet.\n",
      "  % self.max_iter, ConvergenceWarning)\n",
      "/usr/local/lib/python3.7/site-packages/sklearn/neural_network/multilayer_perceptron.py:566: ConvergenceWarning: Stochastic Optimizer: Maximum iterations (200) reached and the optimization hasn't converged yet.\n",
      "  % self.max_iter, ConvergenceWarning)\n",
      "/usr/local/lib/python3.7/site-packages/sklearn/neural_network/multilayer_perceptron.py:566: ConvergenceWarning: Stochastic Optimizer: Maximum iterations (200) reached and the optimization hasn't converged yet.\n",
      "  % self.max_iter, ConvergenceWarning)\n",
      "/usr/local/lib/python3.7/site-packages/sklearn/neural_network/multilayer_perceptron.py:566: ConvergenceWarning: Stochastic Optimizer: Maximum iterations (200) reached and the optimization hasn't converged yet.\n",
      "  % self.max_iter, ConvergenceWarning)\n",
      "/usr/local/lib/python3.7/site-packages/sklearn/neural_network/multilayer_perceptron.py:566: ConvergenceWarning: Stochastic Optimizer: Maximum iterations (200) reached and the optimization hasn't converged yet.\n",
      "  % self.max_iter, ConvergenceWarning)\n",
      "/usr/local/lib/python3.7/site-packages/sklearn/neural_network/multilayer_perceptron.py:566: ConvergenceWarning: Stochastic Optimizer: Maximum iterations (200) reached and the optimization hasn't converged yet.\n",
      "  % self.max_iter, ConvergenceWarning)\n",
      "/usr/local/lib/python3.7/site-packages/sklearn/neural_network/multilayer_perceptron.py:566: ConvergenceWarning: Stochastic Optimizer: Maximum iterations (200) reached and the optimization hasn't converged yet.\n",
      "  % self.max_iter, ConvergenceWarning)\n",
      "/usr/local/lib/python3.7/site-packages/sklearn/neural_network/multilayer_perceptron.py:566: ConvergenceWarning: Stochastic Optimizer: Maximum iterations (200) reached and the optimization hasn't converged yet.\n",
      "  % self.max_iter, ConvergenceWarning)\n",
      "/usr/local/lib/python3.7/site-packages/sklearn/neural_network/multilayer_perceptron.py:566: ConvergenceWarning: Stochastic Optimizer: Maximum iterations (200) reached and the optimization hasn't converged yet.\n",
      "  % self.max_iter, ConvergenceWarning)\n",
      "/usr/local/lib/python3.7/site-packages/sklearn/neural_network/multilayer_perceptron.py:566: ConvergenceWarning: Stochastic Optimizer: Maximum iterations (200) reached and the optimization hasn't converged yet.\n",
      "  % self.max_iter, ConvergenceWarning)\n",
      "/usr/local/lib/python3.7/site-packages/sklearn/neural_network/multilayer_perceptron.py:566: ConvergenceWarning: Stochastic Optimizer: Maximum iterations (200) reached and the optimization hasn't converged yet.\n",
      "  % self.max_iter, ConvergenceWarning)\n",
      "/usr/local/lib/python3.7/site-packages/sklearn/neural_network/multilayer_perceptron.py:566: ConvergenceWarning: Stochastic Optimizer: Maximum iterations (200) reached and the optimization hasn't converged yet.\n",
      "  % self.max_iter, ConvergenceWarning)\n",
      "/usr/local/lib/python3.7/site-packages/sklearn/neural_network/multilayer_perceptron.py:566: ConvergenceWarning: Stochastic Optimizer: Maximum iterations (200) reached and the optimization hasn't converged yet.\n",
      "  % self.max_iter, ConvergenceWarning)\n",
      "/usr/local/lib/python3.7/site-packages/sklearn/neural_network/multilayer_perceptron.py:566: ConvergenceWarning: Stochastic Optimizer: Maximum iterations (200) reached and the optimization hasn't converged yet.\n",
      "  % self.max_iter, ConvergenceWarning)\n",
      "/usr/local/lib/python3.7/site-packages/sklearn/neural_network/multilayer_perceptron.py:566: ConvergenceWarning: Stochastic Optimizer: Maximum iterations (200) reached and the optimization hasn't converged yet.\n",
      "  % self.max_iter, ConvergenceWarning)\n",
      "/usr/local/lib/python3.7/site-packages/sklearn/neural_network/multilayer_perceptron.py:566: ConvergenceWarning: Stochastic Optimizer: Maximum iterations (200) reached and the optimization hasn't converged yet.\n",
      "  % self.max_iter, ConvergenceWarning)\n",
      "/usr/local/lib/python3.7/site-packages/sklearn/neural_network/multilayer_perceptron.py:566: ConvergenceWarning: Stochastic Optimizer: Maximum iterations (200) reached and the optimization hasn't converged yet.\n",
      "  % self.max_iter, ConvergenceWarning)\n",
      "/usr/local/lib/python3.7/site-packages/sklearn/neural_network/multilayer_perceptron.py:566: ConvergenceWarning: Stochastic Optimizer: Maximum iterations (200) reached and the optimization hasn't converged yet.\n",
      "  % self.max_iter, ConvergenceWarning)\n",
      "/usr/local/lib/python3.7/site-packages/sklearn/neural_network/multilayer_perceptron.py:566: ConvergenceWarning: Stochastic Optimizer: Maximum iterations (200) reached and the optimization hasn't converged yet.\n",
      "  % self.max_iter, ConvergenceWarning)\n",
      "/usr/local/lib/python3.7/site-packages/sklearn/neural_network/multilayer_perceptron.py:566: ConvergenceWarning: Stochastic Optimizer: Maximum iterations (200) reached and the optimization hasn't converged yet.\n",
      "  % self.max_iter, ConvergenceWarning)\n",
      "/usr/local/lib/python3.7/site-packages/sklearn/neural_network/multilayer_perceptron.py:566: ConvergenceWarning: Stochastic Optimizer: Maximum iterations (200) reached and the optimization hasn't converged yet.\n",
      "  % self.max_iter, ConvergenceWarning)\n",
      "/usr/local/lib/python3.7/site-packages/sklearn/neural_network/multilayer_perceptron.py:566: ConvergenceWarning: Stochastic Optimizer: Maximum iterations (200) reached and the optimization hasn't converged yet.\n",
      "  % self.max_iter, ConvergenceWarning)\n",
      "/usr/local/lib/python3.7/site-packages/sklearn/neural_network/multilayer_perceptron.py:566: ConvergenceWarning: Stochastic Optimizer: Maximum iterations (200) reached and the optimization hasn't converged yet.\n",
      "  % self.max_iter, ConvergenceWarning)\n",
      "/usr/local/lib/python3.7/site-packages/sklearn/neural_network/multilayer_perceptron.py:566: ConvergenceWarning: Stochastic Optimizer: Maximum iterations (200) reached and the optimization hasn't converged yet.\n",
      "  % self.max_iter, ConvergenceWarning)\n",
      "/usr/local/lib/python3.7/site-packages/sklearn/neural_network/multilayer_perceptron.py:566: ConvergenceWarning: Stochastic Optimizer: Maximum iterations (200) reached and the optimization hasn't converged yet.\n",
      "  % self.max_iter, ConvergenceWarning)\n",
      "/usr/local/lib/python3.7/site-packages/sklearn/neural_network/multilayer_perceptron.py:566: ConvergenceWarning: Stochastic Optimizer: Maximum iterations (200) reached and the optimization hasn't converged yet.\n",
      "  % self.max_iter, ConvergenceWarning)\n",
      "/usr/local/lib/python3.7/site-packages/sklearn/neural_network/multilayer_perceptron.py:566: ConvergenceWarning: Stochastic Optimizer: Maximum iterations (200) reached and the optimization hasn't converged yet.\n",
      "  % self.max_iter, ConvergenceWarning)\n",
      "/usr/local/lib/python3.7/site-packages/sklearn/neural_network/multilayer_perceptron.py:566: ConvergenceWarning: Stochastic Optimizer: Maximum iterations (200) reached and the optimization hasn't converged yet.\n",
      "  % self.max_iter, ConvergenceWarning)\n",
      "/usr/local/lib/python3.7/site-packages/sklearn/neural_network/multilayer_perceptron.py:566: ConvergenceWarning: Stochastic Optimizer: Maximum iterations (200) reached and the optimization hasn't converged yet.\n",
      "  % self.max_iter, ConvergenceWarning)\n",
      "/usr/local/lib/python3.7/site-packages/sklearn/neural_network/multilayer_perceptron.py:566: ConvergenceWarning: Stochastic Optimizer: Maximum iterations (200) reached and the optimization hasn't converged yet.\n",
      "  % self.max_iter, ConvergenceWarning)\n"
     ]
    },
    {
     "name": "stderr",
     "output_type": "stream",
     "text": [
      "/usr/local/lib/python3.7/site-packages/sklearn/neural_network/multilayer_perceptron.py:566: ConvergenceWarning: Stochastic Optimizer: Maximum iterations (200) reached and the optimization hasn't converged yet.\n",
      "  % self.max_iter, ConvergenceWarning)\n",
      "/usr/local/lib/python3.7/site-packages/sklearn/neural_network/multilayer_perceptron.py:566: ConvergenceWarning: Stochastic Optimizer: Maximum iterations (200) reached and the optimization hasn't converged yet.\n",
      "  % self.max_iter, ConvergenceWarning)\n",
      "/usr/local/lib/python3.7/site-packages/sklearn/neural_network/multilayer_perceptron.py:566: ConvergenceWarning: Stochastic Optimizer: Maximum iterations (200) reached and the optimization hasn't converged yet.\n",
      "  % self.max_iter, ConvergenceWarning)\n",
      "/usr/local/lib/python3.7/site-packages/sklearn/neural_network/multilayer_perceptron.py:566: ConvergenceWarning: Stochastic Optimizer: Maximum iterations (200) reached and the optimization hasn't converged yet.\n",
      "  % self.max_iter, ConvergenceWarning)\n",
      "/usr/local/lib/python3.7/site-packages/sklearn/neural_network/multilayer_perceptron.py:566: ConvergenceWarning: Stochastic Optimizer: Maximum iterations (200) reached and the optimization hasn't converged yet.\n",
      "  % self.max_iter, ConvergenceWarning)\n",
      "/usr/local/lib/python3.7/site-packages/sklearn/neural_network/multilayer_perceptron.py:566: ConvergenceWarning: Stochastic Optimizer: Maximum iterations (200) reached and the optimization hasn't converged yet.\n",
      "  % self.max_iter, ConvergenceWarning)\n",
      "/usr/local/lib/python3.7/site-packages/sklearn/neural_network/multilayer_perceptron.py:566: ConvergenceWarning: Stochastic Optimizer: Maximum iterations (200) reached and the optimization hasn't converged yet.\n",
      "  % self.max_iter, ConvergenceWarning)\n",
      "/usr/local/lib/python3.7/site-packages/sklearn/neural_network/multilayer_perceptron.py:566: ConvergenceWarning: Stochastic Optimizer: Maximum iterations (200) reached and the optimization hasn't converged yet.\n",
      "  % self.max_iter, ConvergenceWarning)\n",
      "/usr/local/lib/python3.7/site-packages/sklearn/neural_network/multilayer_perceptron.py:566: ConvergenceWarning: Stochastic Optimizer: Maximum iterations (200) reached and the optimization hasn't converged yet.\n",
      "  % self.max_iter, ConvergenceWarning)\n",
      "/usr/local/lib/python3.7/site-packages/sklearn/neural_network/multilayer_perceptron.py:566: ConvergenceWarning: Stochastic Optimizer: Maximum iterations (200) reached and the optimization hasn't converged yet.\n",
      "  % self.max_iter, ConvergenceWarning)\n"
     ]
    },
    {
     "name": "stdout",
     "output_type": "stream",
     "text": [
      "MLPClassifier(activation='relu', alpha=0.0001, batch_size='auto', beta_1=0.9,\n",
      "              beta_2=0.999, early_stopping=False, epsilon=1e-08,\n",
      "              hidden_layer_sizes=(100,), learning_rate='constant',\n",
      "              learning_rate_init=0.005, max_iter=200, momentum=0.9,\n",
      "              n_iter_no_change=10, nesterovs_momentum=True, power_t=0.5,\n",
      "              random_state=42, shuffle=True, solver='adam', tol=0.0001,\n",
      "              validation_fraction=0.1, verbose=False, warm_start=False)\n"
     ]
    },
    {
     "name": "stderr",
     "output_type": "stream",
     "text": [
      "/usr/local/lib/python3.7/site-packages/sklearn/neural_network/multilayer_perceptron.py:566: ConvergenceWarning: Stochastic Optimizer: Maximum iterations (200) reached and the optimization hasn't converged yet.\n",
      "  % self.max_iter, ConvergenceWarning)\n",
      "[Parallel(n_jobs=1)]: Done 180 out of 180 | elapsed:   16.5s finished\n",
      "/usr/local/lib/python3.7/site-packages/sklearn/model_selection/_search.py:814: DeprecationWarning: The default of the `iid` parameter will change from True to False in version 0.22 and will be removed in 0.24. This will change numeric results when test-set sizes are unequal.\n",
      "  DeprecationWarning)\n",
      "/usr/local/lib/python3.7/site-packages/sklearn/neural_network/multilayer_perceptron.py:566: ConvergenceWarning: Stochastic Optimizer: Maximum iterations (200) reached and the optimization hasn't converged yet.\n",
      "  % self.max_iter, ConvergenceWarning)\n"
     ]
    }
   ],
   "source": [
    "params = {'activation': ['identity', 'logistic', 'tanh', 'relu'],\n",
    "          'solver': ['lbfgs', 'sgd', 'adam'],\n",
    "          'learning_rate_init': [.1,.05,.01,.005,.001]}\n",
    "clf_grid_search_perceptron = GridSearchCV(\n",
    "    MLPClassifier(random_state=42), params, verbose=1, cv=3)\n",
    "\n",
    "clf_grid_search_perceptron.fit(X_train, y_train)\n",
    "print(clf_grid_search_perceptron.best_estimator_)"
   ]
  },
  {
   "cell_type": "code",
   "execution_count": 15,
   "metadata": {},
   "outputs": [],
   "source": [
    "## Accuracy score for the best configuration calculated with grid_search_cv\n",
    "y_pred2_perceptron = clf_grid_search_perceptron.predict(X_test)"
   ]
  },
  {
   "cell_type": "code",
   "execution_count": 16,
   "metadata": {},
   "outputs": [
    {
     "name": "stdout",
     "output_type": "stream",
     "text": [
      "The Accuracy for MLP: 0.7692307692307693\n",
      "The Accuracy for MLP with GridSearch is: 0.8205128205128205\n"
     ]
    }
   ],
   "source": [
    "###### Vamos a generar los resultados\n",
    "from sklearn.metrics import accuracy_score\n",
    "\n",
    "result1MLP=accuracy_score(y_test, y_pred1_perceptron)\n",
    "print(\"The Accuracy for MLP: \" + str(result1MLP))\n",
    "\n",
    "\n",
    "result2MLP=accuracy_score(y_test, y_pred2_perceptron)\n",
    "print(\"The Accuracy for MLP with GridSearch is: \" + str(result2MLP))"
   ]
  },
  {
   "cell_type": "markdown",
   "metadata": {},
   "source": [
    "# Stochastic Gradient Descent"
   ]
  },
  {
   "cell_type": "markdown",
   "metadata": {},
   "source": [
    "### Normal Classifier"
   ]
  },
  {
   "cell_type": "code",
   "execution_count": 17,
   "metadata": {},
   "outputs": [
    {
     "data": {
      "text/plain": [
       "SGDClassifier(alpha=0.0001, average=False, class_weight=None,\n",
       "              early_stopping=False, epsilon=0.1, eta0=0.0, fit_intercept=True,\n",
       "              l1_ratio=0.15, learning_rate='optimal', loss='hinge',\n",
       "              max_iter=1000, n_iter_no_change=5, n_jobs=None, penalty='l2',\n",
       "              power_t=0.5, random_state=42, shuffle=True, tol=0.001,\n",
       "              validation_fraction=0.1, verbose=0, warm_start=False)"
      ]
     },
     "execution_count": 17,
     "metadata": {},
     "output_type": "execute_result"
    }
   ],
   "source": [
    "from sklearn.linear_model import SGDClassifier\n",
    "\n",
    "sgd_clf = SGDClassifier(random_state=42)\n",
    "sgd_clf.fit(X_train, y_train)"
   ]
  },
  {
   "cell_type": "code",
   "execution_count": 18,
   "metadata": {},
   "outputs": [],
   "source": [
    "# para predecir los test con sgd_clf\n",
    "y_pred1_SGD = sgd_clf.predict(X_test)"
   ]
  },
  {
   "cell_type": "markdown",
   "metadata": {},
   "source": [
    "### Best configuration for the classifier"
   ]
  },
  {
   "cell_type": "code",
   "execution_count": 19,
   "metadata": {},
   "outputs": [
    {
     "name": "stderr",
     "output_type": "stream",
     "text": [
      "/usr/local/lib/python3.7/site-packages/sklearn/model_selection/_split.py:1978: FutureWarning: The default value of cv will change from 3 to 5 in version 0.22. Specify it explicitly to silence this warning.\n",
      "  warnings.warn(CV_WARNING, FutureWarning)\n",
      "/usr/local/lib/python3.7/site-packages/sklearn/linear_model/stochastic_gradient.py:561: ConvergenceWarning: Maximum number of iteration reached before convergence. Consider increasing max_iter to improve the fit.\n",
      "  ConvergenceWarning)\n",
      "/usr/local/lib/python3.7/site-packages/sklearn/linear_model/stochastic_gradient.py:561: ConvergenceWarning: Maximum number of iteration reached before convergence. Consider increasing max_iter to improve the fit.\n",
      "  ConvergenceWarning)\n",
      "/usr/local/lib/python3.7/site-packages/sklearn/linear_model/stochastic_gradient.py:561: ConvergenceWarning: Maximum number of iteration reached before convergence. Consider increasing max_iter to improve the fit.\n",
      "  ConvergenceWarning)\n"
     ]
    },
    {
     "name": "stdout",
     "output_type": "stream",
     "text": [
      "SGDClassifier(alpha=10, average=False, class_weight=None, early_stopping=False,\n",
      "              epsilon=0.1, eta0=0.0, fit_intercept=True, l1_ratio=0.15,\n",
      "              learning_rate='optimal', loss='hinge', max_iter=1000,\n",
      "              n_iter_no_change=5, n_jobs=None, penalty='l1', power_t=0.5,\n",
      "              random_state=42, shuffle=True, tol=0.001, validation_fraction=0.1,\n",
      "              verbose=0, warm_start=False)\n"
     ]
    },
    {
     "name": "stderr",
     "output_type": "stream",
     "text": [
      "/usr/local/lib/python3.7/site-packages/sklearn/linear_model/stochastic_gradient.py:561: ConvergenceWarning: Maximum number of iteration reached before convergence. Consider increasing max_iter to improve the fit.\n",
      "  ConvergenceWarning)\n",
      "/usr/local/lib/python3.7/site-packages/sklearn/linear_model/stochastic_gradient.py:561: ConvergenceWarning: Maximum number of iteration reached before convergence. Consider increasing max_iter to improve the fit.\n",
      "  ConvergenceWarning)\n",
      "/usr/local/lib/python3.7/site-packages/sklearn/linear_model/stochastic_gradient.py:561: ConvergenceWarning: Maximum number of iteration reached before convergence. Consider increasing max_iter to improve the fit.\n",
      "  ConvergenceWarning)\n",
      "/usr/local/lib/python3.7/site-packages/sklearn/linear_model/stochastic_gradient.py:561: ConvergenceWarning: Maximum number of iteration reached before convergence. Consider increasing max_iter to improve the fit.\n",
      "  ConvergenceWarning)\n",
      "/usr/local/lib/python3.7/site-packages/sklearn/linear_model/stochastic_gradient.py:561: ConvergenceWarning: Maximum number of iteration reached before convergence. Consider increasing max_iter to improve the fit.\n",
      "  ConvergenceWarning)\n",
      "/usr/local/lib/python3.7/site-packages/sklearn/linear_model/stochastic_gradient.py:561: ConvergenceWarning: Maximum number of iteration reached before convergence. Consider increasing max_iter to improve the fit.\n",
      "  ConvergenceWarning)\n",
      "/usr/local/lib/python3.7/site-packages/sklearn/linear_model/stochastic_gradient.py:561: ConvergenceWarning: Maximum number of iteration reached before convergence. Consider increasing max_iter to improve the fit.\n",
      "  ConvergenceWarning)\n",
      "/usr/local/lib/python3.7/site-packages/sklearn/linear_model/stochastic_gradient.py:561: ConvergenceWarning: Maximum number of iteration reached before convergence. Consider increasing max_iter to improve the fit.\n",
      "  ConvergenceWarning)\n",
      "/usr/local/lib/python3.7/site-packages/sklearn/linear_model/stochastic_gradient.py:561: ConvergenceWarning: Maximum number of iteration reached before convergence. Consider increasing max_iter to improve the fit.\n",
      "  ConvergenceWarning)\n",
      "/usr/local/lib/python3.7/site-packages/sklearn/linear_model/stochastic_gradient.py:561: ConvergenceWarning: Maximum number of iteration reached before convergence. Consider increasing max_iter to improve the fit.\n",
      "  ConvergenceWarning)\n",
      "/usr/local/lib/python3.7/site-packages/sklearn/model_selection/_search.py:814: DeprecationWarning: The default of the `iid` parameter will change from True to False in version 0.22 and will be removed in 0.24. This will change numeric results when test-set sizes are unequal.\n",
      "  DeprecationWarning)\n",
      "/usr/local/lib/python3.7/site-packages/sklearn/linear_model/stochastic_gradient.py:561: ConvergenceWarning: Maximum number of iteration reached before convergence. Consider increasing max_iter to improve the fit.\n",
      "  ConvergenceWarning)\n"
     ]
    }
   ],
   "source": [
    "params = {\"alpha\": [0.0001, 0.001, 0.01, 0.1, 1, 10, 100],\n",
    "          \"penalty\": [\"none\", \"l1\", \"l2\"]}\n",
    "\n",
    "clf_grid_search_sgd = GridSearchCV(sgd_clf, params)\n",
    "\n",
    "clf_grid_search_sgd.fit(X_train, y_train)\n",
    "print(clf_grid_search_sgd.best_estimator_)"
   ]
  },
  {
   "cell_type": "code",
   "execution_count": 20,
   "metadata": {},
   "outputs": [],
   "source": [
    "## Accuracy score for the best configuration calculated with clf_grid_search_sgd\n",
    "y_pred2_SGD = clf_grid_search_sgd.predict(X_test)"
   ]
  },
  {
   "cell_type": "code",
   "execution_count": 21,
   "metadata": {},
   "outputs": [
    {
     "name": "stdout",
     "output_type": "stream",
     "text": [
      "The Accuracy for SGD: 0.7692307692307693\n",
      "The Accuracy for SGD with GridSearch is: 0.8205128205128205\n"
     ]
    }
   ],
   "source": [
    "###### Vamos a generar los resultados\n",
    "from sklearn.metrics import accuracy_score\n",
    "\n",
    "result1SGD=accuracy_score(y_test, y_pred1_SGD)\n",
    "print(\"The Accuracy for SGD: \" + str(result1MLP))\n",
    "\n",
    "\n",
    "result2SGD=accuracy_score(y_test, y_pred2_SGD)\n",
    "print(\"The Accuracy for SGD with GridSearch is: \" + str(result2MLP))"
   ]
  },
  {
   "cell_type": "markdown",
   "metadata": {},
   "source": [
    "# KMeans classifier"
   ]
  },
  {
   "cell_type": "markdown",
   "metadata": {},
   "source": [
    "### Normal Classifier"
   ]
  },
  {
   "cell_type": "code",
   "execution_count": 22,
   "metadata": {},
   "outputs": [
    {
     "data": {
      "text/plain": [
       "KMeans(algorithm='auto', copy_x=True, init='k-means++', max_iter=300,\n",
       "       n_clusters=3, n_init=10, n_jobs=None, precompute_distances='auto',\n",
       "       random_state=42, tol=0.0001, verbose=0)"
      ]
     },
     "execution_count": 22,
     "metadata": {},
     "output_type": "execute_result"
    }
   ],
   "source": [
    "from sklearn.cluster import KMeans\n",
    "\n",
    "kmeans_clf = KMeans(n_clusters=3, init='k-means++', n_init=10, max_iter=300, tol=0.0001, precompute_distances='auto', verbose=0, random_state=42, copy_x=True, n_jobs=None, algorithm='auto')\n",
    "kmeans_clf.fit(X_train, y_train)\n"
   ]
  },
  {
   "cell_type": "code",
   "execution_count": 23,
   "metadata": {},
   "outputs": [],
   "source": [
    "# para predecir los test con kmeans_clf\n",
    "y_pred1_KM = kmeans_clf.predict(X_test)"
   ]
  },
  {
   "cell_type": "markdown",
   "metadata": {},
   "source": [
    "### Best configuration for the classifier"
   ]
  },
  {
   "cell_type": "code",
   "execution_count": 24,
   "metadata": {},
   "outputs": [
    {
     "name": "stdout",
     "output_type": "stream",
     "text": [
      "Fitting 3 folds for each of 8 candidates, totalling 24 fits\n"
     ]
    },
    {
     "name": "stderr",
     "output_type": "stream",
     "text": [
      "[Parallel(n_jobs=1)]: Using backend SequentialBackend with 1 concurrent workers.\n"
     ]
    },
    {
     "name": "stdout",
     "output_type": "stream",
     "text": [
      "KMeans(algorithm='auto', copy_x=True, init='k-means++', max_iter=300,\n",
      "       n_clusters=9, n_init=10, n_jobs=None, precompute_distances='auto',\n",
      "       random_state=42, tol=0.0001, verbose=0)\n"
     ]
    },
    {
     "name": "stderr",
     "output_type": "stream",
     "text": [
      "[Parallel(n_jobs=1)]: Done  24 out of  24 | elapsed:    1.2s finished\n",
      "/usr/local/lib/python3.7/site-packages/sklearn/model_selection/_search.py:814: DeprecationWarning: The default of the `iid` parameter will change from True to False in version 0.22 and will be removed in 0.24. This will change numeric results when test-set sizes are unequal.\n",
      "  DeprecationWarning)\n"
     ]
    }
   ],
   "source": [
    "from sklearn.model_selection import GridSearchCV\n",
    "\n",
    "params = {\"n_clusters\": range(2, 10)}\n",
    "\n",
    "clf_grid_search_KM = GridSearchCV( \n",
    "    KMeans(random_state=42), params, verbose=1, cv=3 ) \n",
    "\n",
    "clf_grid_search_KM.fit(X_train, y_train)\n",
    "\n",
    "print(clf_grid_search_KM.best_estimator_)"
   ]
  },
  {
   "cell_type": "code",
   "execution_count": 25,
   "metadata": {},
   "outputs": [],
   "source": [
    "## Accuracy score for the best configuration calculated with clf_grid_search_KM\n",
    "y_pred2_KM = clf_grid_search_KM.predict(X_test)"
   ]
  },
  {
   "cell_type": "code",
   "execution_count": 26,
   "metadata": {},
   "outputs": [
    {
     "name": "stdout",
     "output_type": "stream",
     "text": [
      "The Accuracy for KMeans: 0.7692307692307693\n",
      "The Accuracy for Kmeans with GridSearch is: 0.8205128205128205\n"
     ]
    }
   ],
   "source": [
    "###### Vamos a generar los resultados\n",
    "from sklearn.metrics import accuracy_score\n",
    "\n",
    "result1KM=accuracy_score(y_test, y_pred1_KM)\n",
    "print(\"The Accuracy for KMeans: \" + str(result1MLP))\n",
    "\n",
    "\n",
    "result1KM=accuracy_score(y_test, y_pred2_KM)\n",
    "print(\"The Accuracy for Kmeans with GridSearch is: \" + str(result2MLP))"
   ]
  },
  {
   "cell_type": "code",
   "execution_count": null,
   "metadata": {},
   "outputs": [],
   "source": []
  }
 ],
 "metadata": {
  "kernelspec": {
   "display_name": "Python 3",
   "language": "python",
   "name": "python3"
  },
  "language_info": {
   "codemirror_mode": {
    "name": "ipython",
    "version": 3
   },
   "file_extension": ".py",
   "mimetype": "text/x-python",
   "name": "python",
   "nbconvert_exporter": "python",
   "pygments_lexer": "ipython3",
   "version": "3.7.4"
  }
 },
 "nbformat": 4,
 "nbformat_minor": 2
}
