{
 "cells": [
  {
   "cell_type": "code",
   "execution_count": 2,
   "metadata": {},
   "outputs": [],
   "source": [
    "# para leer el archivo\n",
    "with open('../datasets/hepatitis.dat', 'r') as lector:\n",
    "    lista = lector.readlines()"
   ]
  },
  {
   "cell_type": "code",
   "execution_count": 3,
   "metadata": {},
   "outputs": [],
   "source": [
    "# convertir los numeros\n",
    "import numpy as np\n",
    "\n",
    "\n",
    "Xt = [entrada.rstrip('\\n').split(',')[:-1]for entrada in lista if not entrada.startswith('@')]\n",
    "## print(Xt)\n",
    "\n",
    "X = []\n",
    "\n",
    "for elemento in Xt:\n",
    "    tempArr = []\n",
    "    for ele in elemento:\n",
    "        try:\n",
    "            tempArr.append(int(ele))\n",
    "        except:\n",
    "            tempArr.append(0)\n",
    "    X.append(tempArr)"
   ]
  },
  {
   "cell_type": "code",
   "execution_count": 4,
   "metadata": {},
   "outputs": [
    {
     "name": "stdout",
     "output_type": "stream",
     "text": [
      "[2. 2. 2. 2. 2. 2. 1. 2. 2. 2. 2. 2. 2. 2. 2. 2. 2. 2. 2. 2. 2. 2. 2. 2.\n",
      " 2. 2. 2. 2. 2. 2. 1. 1. 2. 2. 2. 1. 2. 2. 2. 2. 2. 2. 2. 2. 2. 2. 2. 2.\n",
      " 2. 2. 2. 2. 2. 2. 2. 2. 2. 2. 2. 2. 2. 2. 2. 2. 2. 2. 2. 1. 2. 2. 2. 1.\n",
      " 2. 2. 2. 2. 1. 2. 2. 2. 2. 2. 2. 2. 2. 2. 1. 1. 1. 2. 2. 1. 2. 2. 1. 2.\n",
      " 2. 2. 1. 2. 1. 2. 2. 2. 1. 2. 1. 2. 2. 1. 2. 1. 2. 2. 2. 2. 2. 2. 1. 2.\n",
      " 1. 2. 2. 2. 2. 2. 2. 1. 2. 1. 2. 1. 2. 2. 1. 2. 2. 2. 1. 2. 2. 1. 2. 1.\n",
      " 1. 2. 1. 1. 2. 2. 1. 2. 2. 2. 1.]\n"
     ]
    }
   ],
   "source": [
    "# para sacar y\n",
    "yt = [entrada.rstrip('\\n').split(',')[-1]for entrada in lista if not entrada.startswith('@')]\n",
    "\n",
    "y = [float(i) for i in yt]\n",
    "y = np.asarray(y)\n",
    "print(y)"
   ]
  },
  {
   "cell_type": "code",
   "execution_count": 6,
   "metadata": {},
   "outputs": [],
   "source": [
    "# vamos a generar los conjuntos de prueba\n",
    "from sklearn.model_selection import train_test_split\n",
    "\n",
    "X_train,X_test,y_train,y_test = train_test_split(X, y, random_state=42)"
   ]
  },
  {
   "cell_type": "code",
   "execution_count": 7,
   "metadata": {},
   "outputs": [
    {
     "name": "stderr",
     "output_type": "stream",
     "text": [
      "/usr/local/lib/python3.7/site-packages/sklearn/svm/base.py:193: FutureWarning: The default value of gamma will change from 'auto' to 'scale' in version 0.22 to account better for unscaled features. Set gamma explicitly to 'auto' or 'scale' to avoid this warning.\n",
      "  \"avoid this warning.\", FutureWarning)\n",
      "/usr/local/lib/python3.7/site-packages/sklearn/svm/base.py:193: FutureWarning: The default value of gamma will change from 'auto' to 'scale' in version 0.22 to account better for unscaled features. Set gamma explicitly to 'auto' or 'scale' to avoid this warning.\n",
      "  \"avoid this warning.\", FutureWarning)\n"
     ]
    },
    {
     "data": {
      "text/plain": [
       "Pipeline(memory=None,\n",
       "         steps=[('scaler',\n",
       "                 StandardScaler(copy=True, with_mean=True, with_std=True)),\n",
       "                ('smv_clf',\n",
       "                 SVC(C=5, cache_size=200, class_weight=None, coef0=0.0,\n",
       "                     decision_function_shape='ovr', degree=10,\n",
       "                     gamma='auto_deprecated', kernel='poly', max_iter=-1,\n",
       "                     probability=False, random_state=None, shrinking=True,\n",
       "                     tol=0.001, verbose=False))],\n",
       "         verbose=False)"
      ]
     },
     "execution_count": 7,
     "metadata": {},
     "output_type": "execute_result"
    }
   ],
   "source": [
    "from sklearn.svm import SVC\n",
    "from sklearn.pipeline import Pipeline\n",
    "from sklearn.preprocessing import StandardScaler\n",
    "\n",
    "\n",
    "# Crear maquina de soporte vectorial\n",
    "poly_kernel_svm_clf=Pipeline([\n",
    "    (\"scaler\", StandardScaler()),\n",
    "    (\"smv_clf\", SVC(kernel=\"poly\", degree=3, C=5))\n",
    "])\n",
    "poly_kernel_svm_clf.fit(X_train,y_train)\n",
    "\n",
    "\n",
    "poly10_kernel_svm_clf=Pipeline([\n",
    "    (\"scaler\", StandardScaler()),\n",
    "    (\"smv_clf\", SVC(kernel=\"poly\", degree=10, C=5))\n",
    "])\n",
    "poly10_kernel_svm_clf.fit(X_train,y_train)"
   ]
  },
  {
   "cell_type": "code",
   "execution_count": 8,
   "metadata": {},
   "outputs": [],
   "source": [
    "# para predecir los test\n",
    "y_pred1=poly_kernel_svm_clf.predict(X_test)\n",
    "y_pred2=poly10_kernel_svm_clf.predict(X_test)"
   ]
  },
  {
   "cell_type": "code",
   "execution_count": 9,
   "metadata": {},
   "outputs": [],
   "source": [
    "##### Ahora con arboles de desicion\n",
    "from sklearn.tree import DecisionTreeClassifier\n",
    "\n",
    "tree1 = DecisionTreeClassifier(max_depth=10, criterion=\"entropy\")\n",
    "tree1.fit(X_train,y_train)\n",
    "\n",
    "y_pred3=tree1.predict(X_test)\n"
   ]
  },
  {
   "cell_type": "code",
   "execution_count": 10,
   "metadata": {},
   "outputs": [
    {
     "name": "stdout",
     "output_type": "stream",
     "text": [
      "0.7692307692307693\n",
      "0.8205128205128205\n",
      "0.7435897435897436\n"
     ]
    }
   ],
   "source": [
    "###### Vamos a generar los resultados\n",
    "from sklearn.metrics import accuracy_score\n",
    "\n",
    "#Maquina de soporte vectorial con grado 3\n",
    "result1=accuracy_score(y_test,y_pred1)\n",
    "print(result1)\n",
    "\n",
    "#Maquina de soporte vectorial con grado 10\n",
    "result2=accuracy_score(y_test,y_pred2)\n",
    "print(result2)\n",
    "\n",
    "#Arbol de desicion\n",
    "result3=accuracy_score(y_test,y_pred3)\n",
    "print(result3)"
   ]
  },
  {
   "cell_type": "code",
   "execution_count": null,
   "metadata": {},
   "outputs": [],
   "source": []
  }
 ],
 "metadata": {
  "kernelspec": {
   "display_name": "Python 3",
   "language": "python",
   "name": "python3"
  },
  "language_info": {
   "codemirror_mode": {
    "name": "ipython",
    "version": 3
   },
   "file_extension": ".py",
   "mimetype": "text/x-python",
   "name": "python",
   "nbconvert_exporter": "python",
   "pygments_lexer": "ipython3",
   "version": "3.7.4"
  }
 },
 "nbformat": 4,
 "nbformat_minor": 2
}
